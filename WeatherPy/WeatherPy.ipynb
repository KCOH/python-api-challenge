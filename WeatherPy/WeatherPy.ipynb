{
 "cells": [
  {
   "cell_type": "markdown",
   "metadata": {},
   "source": [
    "# WeatherPy\n",
    "----\n",
    "\n",
    "#### Note\n",
    "* Instructions have been included for each segment. You do not have to follow them exactly, but they are included to help you think through the steps."
   ]
  },
  {
   "cell_type": "code",
   "execution_count": 110,
   "metadata": {
    "scrolled": true
   },
   "outputs": [],
   "source": [
    "# Dependencies\n",
    "import matplotlib.pyplot as plt\n",
    "import pandas as pd\n",
    "import numpy as np\n",
    "import scipy.stats as st\n",
    "from scipy.stats import linregress\n",
    "import requests\n",
    "import json\n",
    "import gmaps\n",
    "#import time\n",
    "\n",
    "# Import API key\n",
    "from api_keys import weather_api_key\n",
    "temp_units = \"imperial\"\n",
    "\n",
    "# Incorporated citipy to determine city based on latitude and longitude\n",
    "from citipy import citipy\n",
    "\n",
    "# Output File (CSV)\n",
    "output_data_file = \"cities.csv\"\n",
    "\n",
    "# Range of latitudes and longitudes\n",
    "lat_range = (-90, 90)\n",
    "lng_range = (-180, 180)\n",
    "\n",
    "# define url\n",
    "query_url = f\"http://api.openweathermap.org/data/2.5/weather?appid={api_key}&units={temp_units}&q=\"\n",
    "\n",
    "# define count of pass throughs\n",
    "count_one = 0\n",
    "set_one = 1"
   ]
  },
  {
   "cell_type": "markdown",
   "metadata": {},
   "source": [
    "## Generate Cities List"
   ]
  },
  {
   "cell_type": "code",
   "execution_count": 111,
   "metadata": {},
   "outputs": [
    {
     "data": {
      "text/plain": [
       "637"
      ]
     },
     "execution_count": 111,
     "metadata": {},
     "output_type": "execute_result"
    }
   ],
   "source": [
    "# List for holding lat_lngs and cities\n",
    "lat_lngs = []\n",
    "cities = []\n",
    "\n",
    "# Create a set of random lat and lng combinations\n",
    "lats = np.random.uniform(low=-90.000, high=90.000, size=1500)\n",
    "lngs = np.random.uniform(low=-180.000, high=180.000, size=1500)\n",
    "lat_lngs = zip(lats, lngs)\n",
    "\n",
    "# Identify nearest city for each lat, lng combination\n",
    "for lat_lng in lat_lngs:\n",
    "    city = citipy.nearest_city(lat_lng[0], lat_lng[1]).city_name\n",
    "    \n",
    "# If the city is unique, then add it to a our cities list\n",
    "    if city not in cities:\n",
    "        cities.append(city)\n",
    "\n",
    "# Print the city count to confirm sufficient count\n",
    "len(cities)"
   ]
  },
  {
   "cell_type": "markdown",
   "metadata": {},
   "source": [
    "### Perform API Calls\n",
    "* Perform a weather check on each city using a series of successive API calls.\n",
    "* Include a print log of each city as it'sbeing processed (with the city number and city name).\n"
   ]
  },
  {
   "cell_type": "code",
   "execution_count": 112,
   "metadata": {
    "scrolled": true
   },
   "outputs": [
    {
     "name": "stdout",
     "output_type": "stream",
     "text": [
      "Processing Record 1 of Set 1 | bredasdorp\n",
      "Processing Record 2 of Set 1 | hermanus\n",
      "Processing Record 3 of Set 1 | mar del plata\n",
      "Processing Record 4 of Set 1 | lavrentiya\n",
      "Processing Record 5 of Set 1 | mahibadhoo\n",
      "Processing Record 6 of Set 1 | cibitoke\n",
      "Processing Record 7 of Set 1 | rikitea\n",
      "Processing Record 8 of Set 1 | betania\n",
      "Processing Record 9 of Set 1 | nome\n",
      "Processing Record 10 of Set 1 | puerto escondido\n",
      "Processing Record 11 of Set 1 | arraial do cabo\n",
      "Processing Record 12 of Set 1 | punta arenas\n",
      "Processing Record 13 of Set 1 | sabang\n",
      "Processing Record 14 of Set 1 | busselton\n",
      "Processing Record 15 of Set 1 | cape town\n",
      "Processing Record 16 of Set 1 | nurota\n",
      "Processing Record 17 of Set 1 | chokurdakh\n",
      "City not found. Skipping...\n",
      "Processing Record 18 of Set 1 | kaitangata\n",
      "Processing Record 19 of Set 1 | mataura\n",
      "Processing Record 20 of Set 1 | hobart\n",
      "Processing Record 21 of Set 1 | victoria\n",
      "Processing Record 22 of Set 1 | hambantota\n",
      "Processing Record 23 of Set 1 | baykalsk\n",
      "Processing Record 24 of Set 1 | atuona\n",
      "Processing Record 25 of Set 1 | lebu\n",
      "Processing Record 26 of Set 1 | krasnoselkup\n",
      "Processing Record 27 of Set 1 | hilo\n",
      "Processing Record 28 of Set 1 | grand river south east\n",
      "Processing Record 29 of Set 1 | porto de moz\n",
      "Processing Record 30 of Set 1 | georgetown\n",
      "Processing Record 31 of Set 1 | fairbanks\n",
      "Processing Record 32 of Set 1 | thompson\n",
      "Processing Record 33 of Set 1 | kapaa\n",
      "Processing Record 34 of Set 1 | vestmannaeyjar\n",
      "Processing Record 35 of Set 1 | padang\n",
      "Processing Record 36 of Set 1 | vaini\n",
      "Processing Record 37 of Set 1 | castro\n",
      "Processing Record 38 of Set 1 | carutapera\n",
      "Processing Record 39 of Set 1 | cidreira\n",
      "Processing Record 40 of Set 1 | avarua\n",
      "Processing Record 41 of Set 1 | caravelas\n",
      "Processing Record 42 of Set 1 | bluff\n",
      "Processing Record 43 of Set 1 | coihaique\n",
      "City not found. Skipping...\n",
      "Processing Record 44 of Set 1 | saint-philippe\n",
      "Processing Record 45 of Set 1 | aklavik\n",
      "Processing Record 46 of Set 1 | guerrero negro\n",
      "Processing Record 47 of Set 1 | labuhan\n",
      "Processing Record 48 of Set 1 | provideniya\n",
      "Processing Record 49 of Set 1 | tuktoyaktuk\n",
      "Processing Record 1 of Set 2 | jawhar\n",
      "Processing Record 2 of Set 2 | maicao\n",
      "Processing Record 3 of Set 2 | ushuaia\n",
      "City not found. Skipping...\n",
      "Processing Record 4 of Set 2 | longyearbyen\n",
      "Processing Record 5 of Set 2 | yomou\n",
      "Processing Record 6 of Set 2 | clyde river\n",
      "Processing Record 7 of Set 2 | yei\n",
      "Processing Record 8 of Set 2 | bowen\n",
      "Processing Record 9 of Set 2 | mandalgovi\n",
      "Processing Record 10 of Set 2 | saskylakh\n",
      "Processing Record 11 of Set 2 | albany\n",
      "Processing Record 12 of Set 2 | warrnambool\n",
      "Processing Record 13 of Set 2 | lerwick\n",
      "Processing Record 14 of Set 2 | dingle\n",
      "Processing Record 15 of Set 2 | malinyi\n",
      "City not found. Skipping...\n",
      "Processing Record 16 of Set 2 | kifri\n",
      "Processing Record 17 of Set 2 | teguldet\n",
      "Processing Record 18 of Set 2 | egvekinot\n",
      "Processing Record 19 of Set 2 | bonthe\n",
      "Processing Record 20 of Set 2 | gorin\n",
      "Processing Record 21 of Set 2 | kazachinskoye\n",
      "City not found. Skipping...\n",
      "Processing Record 22 of Set 2 | saint-augustin\n",
      "Processing Record 23 of Set 2 | port hardy\n",
      "Processing Record 24 of Set 2 | mogadishu\n",
      "City not found. Skipping...\n",
      "City not found. Skipping...\n",
      "Processing Record 25 of Set 2 | tual\n",
      "Processing Record 26 of Set 2 | nyurba\n",
      "Processing Record 27 of Set 2 | bosaso\n",
      "Processing Record 28 of Set 2 | san andres\n",
      "Processing Record 29 of Set 2 | zhezkazgan\n",
      "Processing Record 30 of Set 2 | misratah\n",
      "Processing Record 31 of Set 2 | narsaq\n",
      "Processing Record 32 of Set 2 | chuy\n",
      "Processing Record 33 of Set 2 | benguela\n",
      "Processing Record 34 of Set 2 | oxford\n",
      "Processing Record 35 of Set 2 | barrow\n",
      "Processing Record 36 of Set 2 | port elizabeth\n",
      "Processing Record 37 of Set 2 | makokou\n",
      "City not found. Skipping...\n",
      "City not found. Skipping...\n",
      "City not found. Skipping...\n",
      "Processing Record 38 of Set 2 | marsabit\n",
      "Processing Record 39 of Set 2 | lorengau\n",
      "Processing Record 40 of Set 2 | lompoc\n",
      "Processing Record 41 of Set 2 | luanda\n",
      "Processing Record 42 of Set 2 | ixtapa\n",
      "City not found. Skipping...\n",
      "Processing Record 43 of Set 2 | mandurah\n",
      "Processing Record 44 of Set 2 | faya\n",
      "City not found. Skipping...\n",
      "Processing Record 45 of Set 2 | alekseyevka\n",
      "Processing Record 46 of Set 2 | darnah\n",
      "City not found. Skipping...\n",
      "Processing Record 47 of Set 2 | pontianak\n",
      "Processing Record 48 of Set 2 | komsomolskiy\n",
      "Processing Record 49 of Set 2 | vostok\n",
      "Processing Record 1 of Set 3 | christchurch\n",
      "Processing Record 2 of Set 3 | sibenik\n",
      "Processing Record 3 of Set 3 | qaanaaq\n",
      "City not found. Skipping...\n",
      "Processing Record 4 of Set 3 | lokoja\n",
      "Processing Record 5 of Set 3 | svetlaya\n",
      "Processing Record 6 of Set 3 | ebolowa\n",
      "Processing Record 7 of Set 3 | cockburn town\n",
      "Processing Record 8 of Set 3 | candelaria\n",
      "Processing Record 9 of Set 3 | ponta do sol\n",
      "Processing Record 10 of Set 3 | khatanga\n",
      "Processing Record 11 of Set 3 | mamallapuram\n",
      "Processing Record 12 of Set 3 | byron bay\n",
      "Processing Record 13 of Set 3 | alofi\n",
      "Processing Record 14 of Set 3 | isangel\n",
      "Processing Record 15 of Set 3 | port macquarie\n",
      "Processing Record 16 of Set 3 | yellowknife\n",
      "Processing Record 17 of Set 3 | walbrzych\n",
      "Processing Record 18 of Set 3 | nanortalik\n",
      "Processing Record 19 of Set 3 | port alfred\n",
      "Processing Record 20 of Set 3 | uchiza\n",
      "Processing Record 21 of Set 3 | banamba\n",
      "Processing Record 22 of Set 3 | gornyy\n",
      "Processing Record 23 of Set 3 | ribeira grande\n",
      "Processing Record 24 of Set 3 | phan rang\n",
      "Processing Record 25 of Set 3 | marsh harbour\n",
      "Processing Record 26 of Set 3 | korla\n",
      "Processing Record 27 of Set 3 | new norfolk\n",
      "Processing Record 28 of Set 3 | malaryta\n",
      "Processing Record 29 of Set 3 | omsukchan\n",
      "Processing Record 30 of Set 3 | tasiilaq\n",
      "Processing Record 31 of Set 3 | aras\n",
      "Processing Record 32 of Set 3 | touros\n",
      "Processing Record 33 of Set 3 | vanavara\n",
      "Processing Record 34 of Set 3 | bambous virieux\n",
      "Processing Record 35 of Set 3 | nikolskoye\n",
      "Processing Record 36 of Set 3 | ballina\n",
      "Processing Record 37 of Set 3 | zhigansk\n",
      "Processing Record 38 of Set 3 | cabo san lucas\n",
      "Processing Record 39 of Set 3 | yulara\n",
      "Processing Record 40 of Set 3 | batagay-alyta\n",
      "Processing Record 41 of Set 3 | paamiut\n",
      "Processing Record 42 of Set 3 | tiksi\n",
      "Processing Record 43 of Set 3 | richards bay\n",
      "Processing Record 44 of Set 3 | dangriga\n",
      "Processing Record 45 of Set 3 | atar\n",
      "Processing Record 46 of Set 3 | butaritari\n",
      "Processing Record 47 of Set 3 | grand gaube\n",
      "Processing Record 48 of Set 3 | berlevag\n",
      "Processing Record 49 of Set 3 | dikson\n",
      "Processing Record 1 of Set 4 | karaton\n",
      "Processing Record 2 of Set 4 | aljezur\n",
      "Processing Record 3 of Set 4 | norman wells\n",
      "Processing Record 4 of Set 4 | port hedland\n",
      "Processing Record 5 of Set 4 | souillac\n",
      "Processing Record 6 of Set 4 | kingaroy\n",
      "Processing Record 7 of Set 4 | salisbury\n",
      "Processing Record 8 of Set 4 | salamiyah\n",
      "Processing Record 9 of Set 4 | flinders\n",
      "Processing Record 10 of Set 4 | codrington\n",
      "Processing Record 11 of Set 4 | novopokrovka\n",
      "Processing Record 12 of Set 4 | pevek\n",
      "Processing Record 13 of Set 4 | hualmay\n",
      "Processing Record 14 of Set 4 | wuwei\n",
      "Processing Record 15 of Set 4 | fiumicino\n",
      "Processing Record 16 of Set 4 | codajas\n",
      "Processing Record 17 of Set 4 | holme\n",
      "Processing Record 18 of Set 4 | petropavlovsk-kamchatskiy\n",
      "Processing Record 19 of Set 4 | ampanihy\n",
      "Processing Record 20 of Set 4 | torbay\n",
      "Processing Record 21 of Set 4 | carnarvon\n",
      "Processing Record 22 of Set 4 | neuquen\n",
      "Processing Record 23 of Set 4 | puerto leguizamo\n",
      "Processing Record 24 of Set 4 | belfast\n",
      "Processing Record 25 of Set 4 | bengkulu\n",
      "Processing Record 26 of Set 4 | toyooka\n",
      "Processing Record 27 of Set 4 | raudeberg\n",
      "Processing Record 28 of Set 4 | jamestown\n",
      "Processing Record 29 of Set 4 | oistins\n",
      "Processing Record 30 of Set 4 | lima\n",
      "Processing Record 31 of Set 4 | sirawai\n",
      "Processing Record 32 of Set 4 | esperance\n",
      "Processing Record 33 of Set 4 | charters towers\n",
      "Processing Record 34 of Set 4 | menongue\n",
      "Processing Record 35 of Set 4 | bethel\n",
      "Processing Record 36 of Set 4 | kenai\n",
      "Processing Record 37 of Set 4 | jiayuguan\n",
      "Processing Record 38 of Set 4 | kupang\n",
      "Processing Record 39 of Set 4 | nha trang\n",
      "Processing Record 40 of Set 4 | zhuhai\n",
      "Processing Record 41 of Set 4 | east london\n",
      "Processing Record 42 of Set 4 | mount darwin\n"
     ]
    },
    {
     "name": "stdout",
     "output_type": "stream",
     "text": [
      "Processing Record 43 of Set 4 | fukue\n",
      "City not found. Skipping...\n",
      "Processing Record 44 of Set 4 | homer\n",
      "Processing Record 45 of Set 4 | jiangyou\n",
      "Processing Record 46 of Set 4 | zanjan\n",
      "Processing Record 47 of Set 4 | zhenlai\n",
      "Processing Record 48 of Set 4 | abhar\n",
      "Processing Record 49 of Set 4 | kalmunai\n",
      "City not found. Skipping...\n",
      "Processing Record 1 of Set 5 | taunggyi\n",
      "City not found. Skipping...\n",
      "Processing Record 2 of Set 5 | sao felix do xingu\n",
      "Processing Record 3 of Set 5 | keetmanshoop\n",
      "Processing Record 4 of Set 5 | cockburn harbour\n",
      "Processing Record 5 of Set 5 | gevrai\n",
      "Processing Record 6 of Set 5 | swiecie\n",
      "Processing Record 7 of Set 5 | haines junction\n",
      "Processing Record 8 of Set 5 | vardo\n",
      "Processing Record 9 of Set 5 | komsomolets\n",
      "City not found. Skipping...\n",
      "Processing Record 10 of Set 5 | bafoulabe\n",
      "Processing Record 11 of Set 5 | borogontsy\n",
      "Processing Record 12 of Set 5 | upernavik\n",
      "Processing Record 13 of Set 5 | soyo\n",
      "Processing Record 14 of Set 5 | bud\n",
      "City not found. Skipping...\n",
      "Processing Record 15 of Set 5 | kitimat\n",
      "Processing Record 16 of Set 5 | acapulco\n",
      "Processing Record 17 of Set 5 | bara\n",
      "Processing Record 18 of Set 5 | quelimane\n",
      "Processing Record 19 of Set 5 | kota belud\n",
      "Processing Record 20 of Set 5 | marolambo\n",
      "Processing Record 21 of Set 5 | gizo\n",
      "Processing Record 22 of Set 5 | galle\n",
      "Processing Record 23 of Set 5 | kaniama\n",
      "Processing Record 24 of Set 5 | itoman\n",
      "Processing Record 25 of Set 5 | chumikan\n",
      "Processing Record 26 of Set 5 | kavaratti\n",
      "Processing Record 27 of Set 5 | puerto ayora\n",
      "Processing Record 28 of Set 5 | necochea\n",
      "City not found. Skipping...\n",
      "Processing Record 29 of Set 5 | biak\n",
      "Processing Record 30 of Set 5 | ewa beach\n",
      "City not found. Skipping...\n",
      "Processing Record 31 of Set 5 | sao filipe\n",
      "City not found. Skipping...\n",
      "Processing Record 32 of Set 5 | mikhaylovka\n",
      "Processing Record 33 of Set 5 | pisco\n",
      "Processing Record 34 of Set 5 | bubaque\n",
      "Processing Record 35 of Set 5 | monster\n",
      "City not found. Skipping...\n",
      "Processing Record 36 of Set 5 | hasaki\n",
      "Processing Record 37 of Set 5 | abha\n",
      "Processing Record 38 of Set 5 | shenzhen\n",
      "Processing Record 39 of Set 5 | kloulklubed\n",
      "Processing Record 40 of Set 5 | hirara\n",
      "Processing Record 41 of Set 5 | hammerfest\n",
      "Processing Record 42 of Set 5 | catamarca\n",
      "Processing Record 43 of Set 5 | ruteng\n",
      "Processing Record 44 of Set 5 | alyangula\n",
      "Processing Record 45 of Set 5 | sisimiut\n",
      "Processing Record 46 of Set 5 | cherskiy\n",
      "Processing Record 47 of Set 5 | rudnogorsk\n",
      "Processing Record 48 of Set 5 | hofn\n",
      "Processing Record 49 of Set 5 | xinmin\n",
      "Processing Record 1 of Set 6 | changli\n",
      "Processing Record 2 of Set 6 | lincoln\n",
      "Processing Record 3 of Set 6 | tazovskiy\n",
      "Processing Record 4 of Set 6 | sitka\n",
      "Processing Record 5 of Set 6 | porto velho\n",
      "Processing Record 6 of Set 6 | batangafo\n",
      "Processing Record 7 of Set 6 | liverpool\n",
      "Processing Record 8 of Set 6 | coquimbo\n",
      "Processing Record 9 of Set 6 | santa maria\n",
      "Processing Record 10 of Set 6 | adrar\n",
      "Processing Record 11 of Set 6 | kensington\n",
      "Processing Record 12 of Set 6 | birjand\n",
      "Processing Record 13 of Set 6 | geraldton\n",
      "City not found. Skipping...\n",
      "Processing Record 14 of Set 6 | lata\n",
      "Processing Record 15 of Set 6 | cayenne\n",
      "Processing Record 16 of Set 6 | prince rupert\n",
      "Processing Record 17 of Set 6 | airai\n",
      "Processing Record 18 of Set 6 | klaksvik\n",
      "City not found. Skipping...\n",
      "Processing Record 19 of Set 6 | xunchang\n",
      "Processing Record 20 of Set 6 | grindavik\n",
      "Processing Record 21 of Set 6 | ahipara\n",
      "Processing Record 22 of Set 6 | jaru\n",
      "Processing Record 23 of Set 6 | leshukonskoye\n",
      "Processing Record 24 of Set 6 | doha\n",
      "Processing Record 25 of Set 6 | yichang\n",
      "Processing Record 26 of Set 6 | skjervoy\n",
      "Processing Record 27 of Set 6 | naze\n",
      "Processing Record 28 of Set 6 | falakata\n",
      "Processing Record 29 of Set 6 | olinda\n",
      "Processing Record 30 of Set 6 | ostrovnoy\n",
      "Processing Record 31 of Set 6 | airdrie\n",
      "Processing Record 32 of Set 6 | medvezhyegorsk\n",
      "Processing Record 33 of Set 6 | aloleng\n",
      "Processing Record 34 of Set 6 | bathsheba\n",
      "City not found. Skipping...\n",
      "Processing Record 35 of Set 6 | beloha\n",
      "Processing Record 36 of Set 6 | meulaboh\n",
      "City not found. Skipping...\n",
      "Processing Record 37 of Set 6 | faanui\n",
      "City not found. Skipping...\n",
      "Processing Record 38 of Set 6 | salalah\n",
      "Processing Record 39 of Set 6 | kaeo\n",
      "Processing Record 40 of Set 6 | puerto del rosario\n",
      "Processing Record 41 of Set 6 | auki\n",
      "City not found. Skipping...\n",
      "Processing Record 42 of Set 6 | rocha\n",
      "Processing Record 43 of Set 6 | mukhen\n",
      "City not found. Skipping...\n",
      "Processing Record 44 of Set 6 | kodiak\n",
      "Processing Record 45 of Set 6 | teya\n",
      "Processing Record 46 of Set 6 | namibe\n",
      "Processing Record 47 of Set 6 | alta floresta\n",
      "Processing Record 48 of Set 6 | santo antonio do ica\n",
      "Processing Record 49 of Set 6 | luangwa\n",
      "Processing Record 1 of Set 7 | lanxi\n",
      "Processing Record 2 of Set 7 | turukhansk\n",
      "City not found. Skipping...\n",
      "Processing Record 3 of Set 7 | kawalu\n",
      "Processing Record 4 of Set 7 | antalaha\n",
      "Processing Record 5 of Set 7 | ilulissat\n",
      "Processing Record 6 of Set 7 | san patricio\n",
      "Processing Record 7 of Set 7 | bidor\n",
      "Processing Record 8 of Set 7 | pandan\n",
      "Processing Record 9 of Set 7 | ubaitaba\n",
      "Processing Record 10 of Set 7 | delijan\n",
      "City not found. Skipping...\n",
      "Processing Record 11 of Set 7 | queenstown\n",
      "Processing Record 12 of Set 7 | bratsk\n",
      "Processing Record 13 of Set 7 | olafsvik\n",
      "City not found. Skipping...\n",
      "Processing Record 14 of Set 7 | amahai\n",
      "Processing Record 15 of Set 7 | kruisfontein\n",
      "Processing Record 16 of Set 7 | tacoronte\n",
      "Processing Record 17 of Set 7 | malkangiri\n",
      "Processing Record 18 of Set 7 | tarancon\n",
      "Processing Record 19 of Set 7 | revda\n",
      "Processing Record 20 of Set 7 | bolu\n",
      "Processing Record 21 of Set 7 | beringovskiy\n",
      "Processing Record 22 of Set 7 | maltahohe\n",
      "Processing Record 23 of Set 7 | warner robins\n",
      "City not found. Skipping...\n",
      "Processing Record 24 of Set 7 | adeje\n",
      "Processing Record 25 of Set 7 | sept-iles\n",
      "Processing Record 26 of Set 7 | guanica\n",
      "Processing Record 27 of Set 7 | mindelo\n",
      "Processing Record 28 of Set 7 | okakarara\n",
      "Processing Record 29 of Set 7 | mahon\n",
      "Processing Record 30 of Set 7 | ozernovskiy\n",
      "Processing Record 31 of Set 7 | tiangua\n",
      "Processing Record 32 of Set 7 | high level\n",
      "Processing Record 33 of Set 7 | west bay\n",
      "City not found. Skipping...\n",
      "Processing Record 34 of Set 7 | riverton\n",
      "Processing Record 35 of Set 7 | lakhdenpokhya\n",
      "Processing Record 36 of Set 7 | kieta\n",
      "Processing Record 37 of Set 7 | winnemucca\n",
      "Processing Record 38 of Set 7 | northam\n",
      "Processing Record 39 of Set 7 | lagoa\n",
      "City not found. Skipping...\n",
      "Processing Record 40 of Set 7 | oran\n",
      "Processing Record 41 of Set 7 | seoul\n",
      "City not found. Skipping...\n",
      "Processing Record 42 of Set 7 | cozumel\n",
      "Processing Record 43 of Set 7 | jalu\n",
      "Processing Record 44 of Set 7 | aguie\n",
      "Processing Record 45 of Set 7 | sambava\n",
      "Processing Record 46 of Set 7 | fort smith\n",
      "Processing Record 47 of Set 7 | kavieng\n",
      "Processing Record 48 of Set 7 | broome\n",
      "Processing Record 49 of Set 7 | fortuna\n",
      "Processing Record 1 of Set 8 | ohafia\n",
      "Processing Record 2 of Set 8 | magistralnyy\n",
      "Processing Record 3 of Set 8 | hutchinson\n",
      "Processing Record 4 of Set 8 | eyl\n",
      "Processing Record 5 of Set 8 | nizhniy kuranakh\n",
      "Processing Record 6 of Set 8 | constitucion\n",
      "City not found. Skipping...\n",
      "Processing Record 7 of Set 8 | usevya\n",
      "Processing Record 8 of Set 8 | lamu\n",
      "Processing Record 9 of Set 8 | agde\n",
      "Processing Record 10 of Set 8 | bozeman\n",
      "Processing Record 11 of Set 8 | talnakh\n",
      "Processing Record 12 of Set 8 | anori\n",
      "Processing Record 13 of Set 8 | dunedin\n",
      "Processing Record 14 of Set 8 | iqaluit\n",
      "Processing Record 15 of Set 8 | dong hoi\n",
      "Processing Record 16 of Set 8 | astoria\n",
      "Processing Record 17 of Set 8 | monrovia\n",
      "Processing Record 18 of Set 8 | avera\n",
      "Processing Record 19 of Set 8 | mackay\n",
      "City not found. Skipping...\n",
      "City not found. Skipping...\n",
      "Processing Record 20 of Set 8 | berwick\n",
      "Processing Record 21 of Set 8 | yar-sale\n",
      "Processing Record 22 of Set 8 | buala\n",
      "Processing Record 23 of Set 8 | margate\n",
      "Processing Record 24 of Set 8 | tutoia\n",
      "Processing Record 25 of Set 8 | mehamn\n",
      "Processing Record 26 of Set 8 | trat\n",
      "Processing Record 27 of Set 8 | baruun-urt\n",
      "Processing Record 28 of Set 8 | daultala\n",
      "Processing Record 29 of Set 8 | pochutla\n",
      "Processing Record 30 of Set 8 | mahebourg\n",
      "Processing Record 31 of Set 8 | wana\n",
      "Processing Record 32 of Set 8 | durango\n"
     ]
    },
    {
     "name": "stdout",
     "output_type": "stream",
     "text": [
      "Processing Record 33 of Set 8 | mandali\n",
      "Processing Record 34 of Set 8 | alibag\n",
      "Processing Record 35 of Set 8 | luderitz\n",
      "Processing Record 36 of Set 8 | palmer\n",
      "City not found. Skipping...\n",
      "Processing Record 37 of Set 8 | novi bilokorovychi\n",
      "Processing Record 38 of Set 8 | gannan\n",
      "Processing Record 39 of Set 8 | xichang\n",
      "City not found. Skipping...\n",
      "Processing Record 40 of Set 8 | becerril\n",
      "Processing Record 41 of Set 8 | abu zabad\n",
      "Processing Record 42 of Set 8 | nemuro\n",
      "Processing Record 43 of Set 8 | sao jose da coroa grande\n",
      "Processing Record 44 of Set 8 | inirida\n",
      "City not found. Skipping...\n",
      "Processing Record 45 of Set 8 | springdale\n",
      "Processing Record 46 of Set 8 | borba\n",
      "Processing Record 47 of Set 8 | middlebury\n",
      "Processing Record 48 of Set 8 | bodrum\n",
      "Processing Record 49 of Set 8 | kodinsk\n",
      "Processing Record 1 of Set 9 | sioux lookout\n",
      "Processing Record 2 of Set 9 | hithadhoo\n",
      "City not found. Skipping...\n",
      "City not found. Skipping...\n",
      "Processing Record 3 of Set 9 | port pirie\n",
      "City not found. Skipping...\n",
      "City not found. Skipping...\n",
      "Processing Record 4 of Set 9 | guiglo\n",
      "Processing Record 5 of Set 9 | moose factory\n",
      "Processing Record 6 of Set 9 | saldanha\n",
      "Processing Record 7 of Set 9 | severo-kurilsk\n",
      "Processing Record 8 of Set 9 | moroni\n",
      "Processing Record 9 of Set 9 | solnechnyy\n",
      "Processing Record 10 of Set 9 | shakhunya\n",
      "Processing Record 11 of Set 9 | sharjah\n",
      "Processing Record 12 of Set 9 | hit\n",
      "Processing Record 13 of Set 9 | seymchan\n",
      "Processing Record 14 of Set 9 | axim\n",
      "Processing Record 15 of Set 9 | kita\n",
      "City not found. Skipping...\n",
      "Processing Record 16 of Set 9 | rantepao\n",
      "Processing Record 17 of Set 9 | russell\n",
      "Processing Record 18 of Set 9 | wanning\n",
      "Processing Record 19 of Set 9 | chara\n",
      "City not found. Skipping...\n",
      "Processing Record 20 of Set 9 | katsuura\n",
      "Processing Record 21 of Set 9 | wattegama\n",
      "Processing Record 22 of Set 9 | berdigestyakh\n",
      "Processing Record 23 of Set 9 | nishihara\n",
      "Processing Record 24 of Set 9 | verkhoyansk\n",
      "Processing Record 25 of Set 9 | les escoumins\n",
      "City not found. Skipping...\n",
      "Processing Record 26 of Set 9 | leningradskiy\n",
      "Processing Record 27 of Set 9 | deputatskiy\n",
      "Processing Record 28 of Set 9 | bani walid\n",
      "Processing Record 29 of Set 9 | itarema\n",
      "Processing Record 30 of Set 9 | asau\n",
      "Processing Record 31 of Set 9 | praya\n",
      "Processing Record 32 of Set 9 | moscow\n",
      "Processing Record 33 of Set 9 | ayan\n",
      "Processing Record 34 of Set 9 | sivas\n",
      "Processing Record 35 of Set 9 | moree\n",
      "Processing Record 36 of Set 9 | bourail\n",
      "Processing Record 37 of Set 9 | bambanglipuro\n",
      "City not found. Skipping...\n",
      "Processing Record 38 of Set 9 | muros\n",
      "Processing Record 39 of Set 9 | sorland\n",
      "Processing Record 40 of Set 9 | pangnirtung\n",
      "Processing Record 41 of Set 9 | westport\n",
      "Processing Record 42 of Set 9 | sinnamary\n",
      "Processing Record 43 of Set 9 | khani\n",
      "Processing Record 44 of Set 9 | jurado\n",
      "Processing Record 45 of Set 9 | timizart\n",
      "City not found. Skipping...\n",
      "Processing Record 46 of Set 9 | mao\n",
      "Processing Record 47 of Set 9 | praia da vitoria\n",
      "Processing Record 48 of Set 9 | yelniki\n",
      "Processing Record 49 of Set 9 | ancud\n",
      "Processing Record 1 of Set 10 | harper\n",
      "City not found. Skipping...\n",
      "Processing Record 2 of Set 10 | ugoofaaru\n",
      "Processing Record 3 of Set 10 | nantucket\n",
      "Processing Record 4 of Set 10 | aasiaat\n",
      "Processing Record 5 of Set 10 | pospelikha\n",
      "Processing Record 6 of Set 10 | vao\n",
      "Processing Record 7 of Set 10 | mys shmidta\n",
      "Processing Record 8 of Set 10 | south yuba city\n",
      "Processing Record 9 of Set 10 | sungurlu\n",
      "Processing Record 10 of Set 10 | bela vista\n",
      "Processing Record 11 of Set 10 | rathenow\n",
      "Processing Record 12 of Set 10 | vila velha\n",
      "Processing Record 13 of Set 10 | ocos\n",
      "Processing Record 14 of Set 10 | erzin\n",
      "Processing Record 15 of Set 10 | ondjiva\n",
      "Processing Record 16 of Set 10 | magadan\n",
      "Processing Record 17 of Set 10 | merauke\n",
      "Processing Record 18 of Set 10 | comodoro rivadavia\n",
      "Processing Record 19 of Set 10 | paka\n",
      "Processing Record 20 of Set 10 | porto belo\n",
      "City not found. Skipping...\n",
      "Processing Record 21 of Set 10 | sayyan\n",
      "Processing Record 22 of Set 10 | rawson\n",
      "City not found. Skipping...\n",
      "Processing Record 23 of Set 10 | cairns\n",
      "Processing Record 24 of Set 10 | mezen\n",
      "Processing Record 25 of Set 10 | dauphin\n",
      "Processing Record 26 of Set 10 | dalaba\n",
      "Processing Record 27 of Set 10 | senneterre\n",
      "Processing Record 28 of Set 10 | cootamundra\n",
      "Processing Record 29 of Set 10 | ponta delgada\n",
      "Processing Record 30 of Set 10 | harsany\n",
      "Processing Record 31 of Set 10 | moron\n",
      "City not found. Skipping...\n",
      "Processing Record 32 of Set 10 | belmonte\n",
      "Processing Record 33 of Set 10 | anar darreh\n",
      "Processing Record 34 of Set 10 | yenagoa\n",
      "Processing Record 35 of Set 10 | manyana\n",
      "Processing Record 36 of Set 10 | casablanca\n",
      "Processing Record 37 of Set 10 | kilkenny\n",
      "Processing Record 38 of Set 10 | brawley\n",
      "Processing Record 39 of Set 10 | bongandanga\n",
      "Processing Record 40 of Set 10 | termiz\n",
      "Processing Record 41 of Set 10 | valparaiso\n",
      "Processing Record 42 of Set 10 | shimoda\n",
      "Processing Record 43 of Set 10 | beasain\n",
      "Processing Record 44 of Set 10 | basco\n",
      "Processing Record 45 of Set 10 | sao francisco\n",
      "Processing Record 46 of Set 10 | santa rosalia\n",
      "Processing Record 47 of Set 10 | fort frances\n",
      "Processing Record 48 of Set 10 | varhaug\n",
      "Processing Record 49 of Set 10 | iisalmi\n",
      "Processing Record 1 of Set 11 | aykhal\n",
      "Processing Record 2 of Set 11 | karratha\n",
      "Processing Record 3 of Set 11 | dauriya\n",
      "Processing Record 4 of Set 11 | kasongo-lunda\n",
      "Processing Record 5 of Set 11 | san quintin\n",
      "Processing Record 6 of Set 11 | tura\n",
      "Processing Record 7 of Set 11 | bilibino\n",
      "Processing Record 8 of Set 11 | muravlenko\n",
      "Processing Record 9 of Set 11 | siguiri\n",
      "Processing Record 10 of Set 11 | mount gambier\n",
      "Processing Record 11 of Set 11 | mantua\n",
      "City not found. Skipping...\n",
      "Processing Record 12 of Set 11 | lagos de moreno\n",
      "Processing Record 13 of Set 11 | calabozo\n",
      "Processing Record 14 of Set 11 | pernik\n",
      "Processing Record 15 of Set 11 | artvin\n",
      "Processing Record 16 of Set 11 | belaya gora\n",
      "Processing Record 17 of Set 11 | bonfim\n",
      "City not found. Skipping...\n",
      "Processing Record 18 of Set 11 | tiznit\n",
      "Processing Record 19 of Set 11 | ormoz\n",
      "City not found. Skipping...\n",
      "Processing Record 20 of Set 11 | dongli\n",
      "City not found. Skipping...\n",
      "Processing Record 21 of Set 11 | sao joao da barra\n",
      "Processing Record 22 of Set 11 | chapais\n",
      "Processing Record 23 of Set 11 | laguna\n",
      "Processing Record 24 of Set 11 | novikovo\n",
      "City not found. Skipping...\n",
      "City not found. Skipping...\n",
      "Processing Record 25 of Set 11 | nongan\n",
      "Processing Record 26 of Set 11 | belyy yar\n",
      "Processing Record 27 of Set 11 | gushikawa\n",
      "Processing Record 28 of Set 11 | vila franca do campo\n",
      "City not found. Skipping...\n",
      "Processing Record 29 of Set 11 | tuatapere\n",
      "Processing Record 30 of Set 11 | hami\n",
      "Processing Record 31 of Set 11 | puteyets\n",
      "City not found. Skipping...\n",
      "Processing Record 32 of Set 11 | veraval\n",
      "Processing Record 33 of Set 11 | harlingen\n",
      "Processing Record 34 of Set 11 | otradnoye\n",
      "Processing Record 35 of Set 11 | bay roberts\n",
      "Processing Record 36 of Set 11 | pundaguitan\n",
      "Processing Record 37 of Set 11 | ulladulla\n",
      "Processing Record 38 of Set 11 | vila\n",
      "Processing Record 39 of Set 11 | sovetskiy\n",
      "Processing Record 40 of Set 11 | guararapes\n",
      "Processing Record 41 of Set 11 | fergus falls\n",
      "Processing Record 42 of Set 11 | rioja\n",
      "Processing Record 43 of Set 11 | teknaf\n",
      "City not found. Skipping...\n",
      "Processing Record 44 of Set 11 | port hawkesbury\n",
      "Processing Record 45 of Set 11 | kiama\n",
      "City not found. Skipping...\n",
      "Processing Record 46 of Set 11 | silver city\n",
      "Processing Record 47 of Set 11 | bereda\n",
      "Processing Record 48 of Set 11 | langham\n",
      "Processing Record 49 of Set 11 | puerto baquerizo moreno\n",
      "Processing Record 1 of Set 12 | riviere-au-renard\n",
      "Processing Record 2 of Set 12 | kahului\n",
      "City not found. Skipping...\n",
      "Processing Record 3 of Set 12 | saint-georges\n",
      "Processing Record 4 of Set 12 | juneau\n",
      "Processing Record 5 of Set 12 | lucapa\n",
      "Processing Record 6 of Set 12 | elk plain\n",
      "Processing Record 7 of Set 12 | covington\n",
      "City not found. Skipping...\n",
      "Processing Record 8 of Set 12 | safaga\n",
      "Processing Record 9 of Set 12 | severo-yeniseyskiy\n",
      "Processing Record 10 of Set 12 | mangrol\n",
      "Processing Record 11 of Set 12 | araouane\n",
      "Processing Record 12 of Set 12 | hovd\n",
      "Processing Record 13 of Set 12 | kargasok\n"
     ]
    },
    {
     "name": "stdout",
     "output_type": "stream",
     "text": [
      "Processing Record 14 of Set 12 | xai-xai\n",
      "Processing Record 15 of Set 12 | tecoanapa\n",
      "Processing Record 16 of Set 12 | kirkland lake\n",
      "Processing Record 17 of Set 12 | easton\n",
      "Processing Record 18 of Set 12 | yendi\n",
      "Processing Record 19 of Set 12 | sarangani\n",
      "Processing Record 20 of Set 12 | martapura\n",
      "Processing Record 21 of Set 12 | korop\n",
      "Processing Record 22 of Set 12 | natal\n",
      "Processing Record 23 of Set 12 | antiguo morelos\n",
      "Processing Record 24 of Set 12 | armacao dos buzios\n",
      "Processing Record 25 of Set 12 | luoyang\n",
      "Processing Record 26 of Set 12 | taoudenni\n",
      "Processing Record 27 of Set 12 | poum\n",
      "City not found. Skipping...\n",
      "Processing Record 28 of Set 12 | cabedelo\n",
      "Processing Record 29 of Set 12 | salinopolis\n",
      "------------------------------\n",
      "Data Retrieval Complete\n",
      "------------------------------\n"
     ]
    }
   ],
   "source": [
    "# set lists for the dataframe\n",
    "city_two = []\n",
    "cloudinesses = []\n",
    "dates = []\n",
    "humidities = []\n",
    "lats = []\n",
    "lngs = []\n",
    "max_temps = []\n",
    "wind_speeds = []\n",
    "countries = []\n",
    "\n",
    "# set initial count quantities for organization\n",
    "count_one = 0\n",
    "set_one = 1\n",
    "\n",
    "# loops for creating dataframe columns\n",
    "for city in cities:\n",
    "    try:\n",
    "        response = requests.get(query_url + city.replace(\" \",\"&\")).json()\n",
    "        cloudinesses.append(response['clouds']['all'])\n",
    "        countries.append(response['sys']['country'])\n",
    "        dates.append(response['dt'])\n",
    "        humidities.append(response['main']['humidity'])\n",
    "        lats.append(response['coord']['lat'])\n",
    "        lngs.append(response['coord']['lon'])\n",
    "        max_temps.append(response['main']['temp_max'])\n",
    "        wind_speeds.append(response['wind']['speed'])\n",
    "        if count_one > 48:\n",
    "            count_one = 1\n",
    "            set_one += 1\n",
    "            city_two.append(city)\n",
    "        else:\n",
    "            count_one += 1\n",
    "            city_two.append(city)\n",
    "        print(f\"Processing Record {count_one} of Set {set_one} | {city}\")\n",
    "    except Exception:\n",
    "        print(\"City not found. Skipping...\")\n",
    "print(\"------------------------------\\nData Retrieval Complete\\n------------------------------\") "
   ]
  },
  {
   "cell_type": "markdown",
   "metadata": {},
   "source": [
    "### Convert Raw Data to DataFrame\n",
    "* Export the city data into a .csv.\n",
    "* Display the DataFrame"
   ]
  },
  {
   "cell_type": "code",
   "execution_count": 113,
   "metadata": {},
   "outputs": [
    {
     "data": {
      "text/html": [
       "<div>\n",
       "<style scoped>\n",
       "    .dataframe tbody tr th:only-of-type {\n",
       "        vertical-align: middle;\n",
       "    }\n",
       "\n",
       "    .dataframe tbody tr th {\n",
       "        vertical-align: top;\n",
       "    }\n",
       "\n",
       "    .dataframe thead th {\n",
       "        text-align: right;\n",
       "    }\n",
       "</style>\n",
       "<table border=\"1\" class=\"dataframe\">\n",
       "  <thead>\n",
       "    <tr style=\"text-align: right;\">\n",
       "      <th></th>\n",
       "      <th>City</th>\n",
       "      <th>Lat</th>\n",
       "      <th>Lng</th>\n",
       "      <th>Max Temp</th>\n",
       "      <th>Humidity</th>\n",
       "      <th>Cloudiness</th>\n",
       "      <th>Wind Speed</th>\n",
       "      <th>Country</th>\n",
       "      <th>Date</th>\n",
       "    </tr>\n",
       "  </thead>\n",
       "  <tbody>\n",
       "    <tr>\n",
       "      <th>0</th>\n",
       "      <td>bredasdorp</td>\n",
       "      <td>-34.5322</td>\n",
       "      <td>20.0403</td>\n",
       "      <td>49.32</td>\n",
       "      <td>81</td>\n",
       "      <td>52</td>\n",
       "      <td>3.44</td>\n",
       "      <td>ZA</td>\n",
       "      <td>1627149586</td>\n",
       "    </tr>\n",
       "    <tr>\n",
       "      <th>1</th>\n",
       "      <td>hermanus</td>\n",
       "      <td>-34.4187</td>\n",
       "      <td>19.2345</td>\n",
       "      <td>55.90</td>\n",
       "      <td>60</td>\n",
       "      <td>56</td>\n",
       "      <td>1.45</td>\n",
       "      <td>ZA</td>\n",
       "      <td>1627149593</td>\n",
       "    </tr>\n",
       "    <tr>\n",
       "      <th>2</th>\n",
       "      <td>mar del plata</td>\n",
       "      <td>43.4002</td>\n",
       "      <td>-4.0094</td>\n",
       "      <td>72.14</td>\n",
       "      <td>78</td>\n",
       "      <td>75</td>\n",
       "      <td>3.00</td>\n",
       "      <td>ES</td>\n",
       "      <td>1627149594</td>\n",
       "    </tr>\n",
       "    <tr>\n",
       "      <th>3</th>\n",
       "      <td>lavrentiya</td>\n",
       "      <td>65.5833</td>\n",
       "      <td>-171.0000</td>\n",
       "      <td>46.35</td>\n",
       "      <td>94</td>\n",
       "      <td>100</td>\n",
       "      <td>10.65</td>\n",
       "      <td>RU</td>\n",
       "      <td>1627149306</td>\n",
       "    </tr>\n",
       "    <tr>\n",
       "      <th>4</th>\n",
       "      <td>mahibadhoo</td>\n",
       "      <td>3.7833</td>\n",
       "      <td>72.9667</td>\n",
       "      <td>82.74</td>\n",
       "      <td>74</td>\n",
       "      <td>98</td>\n",
       "      <td>2.95</td>\n",
       "      <td>MV</td>\n",
       "      <td>1627149594</td>\n",
       "    </tr>\n",
       "  </tbody>\n",
       "</table>\n",
       "</div>"
      ],
      "text/plain": [
       "            City      Lat       Lng  Max Temp  Humidity  Cloudiness  \\\n",
       "0     bredasdorp -34.5322   20.0403     49.32        81          52   \n",
       "1       hermanus -34.4187   19.2345     55.90        60          56   \n",
       "2  mar del plata  43.4002   -4.0094     72.14        78          75   \n",
       "3     lavrentiya  65.5833 -171.0000     46.35        94         100   \n",
       "4     mahibadhoo   3.7833   72.9667     82.74        74          98   \n",
       "\n",
       "   Wind Speed Country        Date  \n",
       "0        3.44      ZA  1627149586  \n",
       "1        1.45      ZA  1627149593  \n",
       "2        3.00      ES  1627149594  \n",
       "3       10.65      RU  1627149306  \n",
       "4        2.95      MV  1627149594  "
      ]
     },
     "execution_count": 113,
     "metadata": {},
     "output_type": "execute_result"
    }
   ],
   "source": [
    "# build a dataframe \n",
    "\n",
    "# create a dictionary for establishing dataframe\n",
    "weather_dict = {\n",
    "    \"City\":city_two,\n",
    "    \"Lat\":lats,\n",
    "    \"Lng\":lngs,\n",
    "    \"Max Temp\":max_temps,\n",
    "    \"Humidity\":humidities,\n",
    "    \"Cloudiness\":cloudinesses,\n",
    "    \"Wind Speed\":wind_speeds,\n",
    "    \"Country\":countries,\n",
    "    \"Date\":dates,\n",
    "    }\n",
    "\n",
    "# establish dataframe\n",
    "weather_dataframe = pd.DataFrame(weather_dict)\n",
    "\n",
    "weather_dataframe.head()"
   ]
  },
  {
   "cell_type": "markdown",
   "metadata": {},
   "source": [
    "## Inspect the data and remove the cities where the humidity > 100%.\n",
    "----\n",
    "Skip this step if there are no cities that have humidity > 100%. "
   ]
  },
  {
   "cell_type": "code",
   "execution_count": 27,
   "metadata": {},
   "outputs": [
    {
     "name": "stdout",
     "output_type": "stream",
     "text": [
      "Empty DataFrame\n",
      "Columns: [City, Lat, Lng, Max Temp, Humidity, Cloudiness, Wind Speed, Country, Date]\n",
      "Index: []\n"
     ]
    }
   ],
   "source": [
    "# Create a Boolean Series\n",
    "# weather_dataframe['Humidity']>100\n",
    "weather_dataframe_humidity=weather_dataframe[weather_dataframe['Humidity']>100]\n",
    "print(weather_dataframe_humidity)"
   ]
  },
  {
   "cell_type": "code",
   "execution_count": 17,
   "metadata": {},
   "outputs": [
    {
     "data": {
      "text/plain": [
       "Int64Index([], dtype='int64')"
      ]
     },
     "execution_count": 17,
     "metadata": {},
     "output_type": "execute_result"
    }
   ],
   "source": [
    "#  Get the indices of cities that have humidity over 100%.\n"
   ]
  },
  {
   "cell_type": "code",
   "execution_count": 19,
   "metadata": {},
   "outputs": [
    {
     "data": {
      "text/html": [
       "<div>\n",
       "<style scoped>\n",
       "    .dataframe tbody tr th:only-of-type {\n",
       "        vertical-align: middle;\n",
       "    }\n",
       "\n",
       "    .dataframe tbody tr th {\n",
       "        vertical-align: top;\n",
       "    }\n",
       "\n",
       "    .dataframe thead th {\n",
       "        text-align: right;\n",
       "    }\n",
       "</style>\n",
       "<table border=\"1\" class=\"dataframe\">\n",
       "  <thead>\n",
       "    <tr style=\"text-align: right;\">\n",
       "      <th></th>\n",
       "      <th>City</th>\n",
       "      <th>Lat</th>\n",
       "      <th>Lng</th>\n",
       "      <th>Max Temp</th>\n",
       "      <th>Humidity</th>\n",
       "      <th>Cloudiness</th>\n",
       "      <th>Wind Speed</th>\n",
       "      <th>Country</th>\n",
       "      <th>Date</th>\n",
       "    </tr>\n",
       "  </thead>\n",
       "  <tbody>\n",
       "    <tr>\n",
       "      <td>0</td>\n",
       "      <td>butaritari</td>\n",
       "      <td>3.07</td>\n",
       "      <td>172.79</td>\n",
       "      <td>83.32</td>\n",
       "      <td>74</td>\n",
       "      <td>84</td>\n",
       "      <td>10.42</td>\n",
       "      <td>KI</td>\n",
       "      <td>1593605283</td>\n",
       "    </tr>\n",
       "    <tr>\n",
       "      <td>1</td>\n",
       "      <td>yerbogachen</td>\n",
       "      <td>61.28</td>\n",
       "      <td>108.01</td>\n",
       "      <td>79.52</td>\n",
       "      <td>58</td>\n",
       "      <td>20</td>\n",
       "      <td>7.70</td>\n",
       "      <td>RU</td>\n",
       "      <td>1593605121</td>\n",
       "    </tr>\n",
       "    <tr>\n",
       "      <td>2</td>\n",
       "      <td>cape town</td>\n",
       "      <td>-33.93</td>\n",
       "      <td>18.42</td>\n",
       "      <td>73.00</td>\n",
       "      <td>77</td>\n",
       "      <td>27</td>\n",
       "      <td>4.70</td>\n",
       "      <td>ZA</td>\n",
       "      <td>1593605039</td>\n",
       "    </tr>\n",
       "    <tr>\n",
       "      <td>3</td>\n",
       "      <td>touba</td>\n",
       "      <td>8.28</td>\n",
       "      <td>-7.68</td>\n",
       "      <td>79.97</td>\n",
       "      <td>75</td>\n",
       "      <td>82</td>\n",
       "      <td>3.58</td>\n",
       "      <td>CI</td>\n",
       "      <td>1593605284</td>\n",
       "    </tr>\n",
       "    <tr>\n",
       "      <td>4</td>\n",
       "      <td>jamestown</td>\n",
       "      <td>42.10</td>\n",
       "      <td>-79.24</td>\n",
       "      <td>64.00</td>\n",
       "      <td>88</td>\n",
       "      <td>1</td>\n",
       "      <td>6.93</td>\n",
       "      <td>US</td>\n",
       "      <td>1593605284</td>\n",
       "    </tr>\n",
       "  </tbody>\n",
       "</table>\n",
       "</div>"
      ],
      "text/plain": [
       "          City    Lat     Lng  Max Temp  Humidity  Cloudiness  Wind Speed  \\\n",
       "0   butaritari   3.07  172.79     83.32        74          84       10.42   \n",
       "1  yerbogachen  61.28  108.01     79.52        58          20        7.70   \n",
       "2    cape town -33.93   18.42     73.00        77          27        4.70   \n",
       "3        touba   8.28   -7.68     79.97        75          82        3.58   \n",
       "4    jamestown  42.10  -79.24     64.00        88           1        6.93   \n",
       "\n",
       "  Country        Date  \n",
       "0      KI  1593605283  \n",
       "1      RU  1593605121  \n",
       "2      ZA  1593605039  \n",
       "3      CI  1593605284  \n",
       "4      US  1593605284  "
      ]
     },
     "execution_count": 19,
     "metadata": {},
     "output_type": "execute_result"
    }
   ],
   "source": [
    "# Make a new DataFrame equal to the city data to drop all humidity outliers by index.\n",
    "# Passing \"inplace=False\" will make a copy of the city_data DataFrame, which we call \"clean_city_data\".\n"
   ]
  },
  {
   "cell_type": "code",
   "execution_count": 101,
   "metadata": {},
   "outputs": [
    {
     "data": {
      "text/plain": [
       "City          569\n",
       "Lat           569\n",
       "Lng           569\n",
       "Max Temp      569\n",
       "Humidity      569\n",
       "Cloudiness    569\n",
       "Wind Speed    569\n",
       "Country       569\n",
       "Date          569\n",
       "dtype: int64"
      ]
     },
     "execution_count": 101,
     "metadata": {},
     "output_type": "execute_result"
    }
   ],
   "source": [
    "#Export DataFrame to CSV File\n",
    "weather_dataframe.to_csv(output_data_file)\n",
    "weather_dataframe.count()"
   ]
  },
  {
   "cell_type": "code",
   "execution_count": 102,
   "metadata": {},
   "outputs": [
    {
     "data": {
      "text/html": [
       "<div>\n",
       "<style scoped>\n",
       "    .dataframe tbody tr th:only-of-type {\n",
       "        vertical-align: middle;\n",
       "    }\n",
       "\n",
       "    .dataframe tbody tr th {\n",
       "        vertical-align: top;\n",
       "    }\n",
       "\n",
       "    .dataframe thead th {\n",
       "        text-align: right;\n",
       "    }\n",
       "</style>\n",
       "<table border=\"1\" class=\"dataframe\">\n",
       "  <thead>\n",
       "    <tr style=\"text-align: right;\">\n",
       "      <th></th>\n",
       "      <th>City</th>\n",
       "      <th>Lat</th>\n",
       "      <th>Lng</th>\n",
       "      <th>Max Temp</th>\n",
       "      <th>Humidity</th>\n",
       "      <th>Cloudiness</th>\n",
       "      <th>Wind Speed</th>\n",
       "      <th>Country</th>\n",
       "      <th>Date</th>\n",
       "    </tr>\n",
       "  </thead>\n",
       "  <tbody>\n",
       "    <tr>\n",
       "      <th>0</th>\n",
       "      <td>kapaa</td>\n",
       "      <td>22.0752</td>\n",
       "      <td>-159.3190</td>\n",
       "      <td>79.12</td>\n",
       "      <td>83</td>\n",
       "      <td>90</td>\n",
       "      <td>1.01</td>\n",
       "      <td>US</td>\n",
       "      <td>1627139215</td>\n",
       "    </tr>\n",
       "    <tr>\n",
       "      <th>1</th>\n",
       "      <td>norman wells</td>\n",
       "      <td>35.2226</td>\n",
       "      <td>-97.4395</td>\n",
       "      <td>86.92</td>\n",
       "      <td>70</td>\n",
       "      <td>1</td>\n",
       "      <td>17.27</td>\n",
       "      <td>US</td>\n",
       "      <td>1627139227</td>\n",
       "    </tr>\n",
       "    <tr>\n",
       "      <th>2</th>\n",
       "      <td>rikitea</td>\n",
       "      <td>-23.1203</td>\n",
       "      <td>-134.9692</td>\n",
       "      <td>68.61</td>\n",
       "      <td>55</td>\n",
       "      <td>0</td>\n",
       "      <td>3.51</td>\n",
       "      <td>PF</td>\n",
       "      <td>1627139026</td>\n",
       "    </tr>\n",
       "    <tr>\n",
       "      <th>3</th>\n",
       "      <td>saldanha</td>\n",
       "      <td>-33.0117</td>\n",
       "      <td>17.9442</td>\n",
       "      <td>60.28</td>\n",
       "      <td>54</td>\n",
       "      <td>11</td>\n",
       "      <td>6.08</td>\n",
       "      <td>ZA</td>\n",
       "      <td>1627139153</td>\n",
       "    </tr>\n",
       "    <tr>\n",
       "      <th>4</th>\n",
       "      <td>anibongan</td>\n",
       "      <td>7.3933</td>\n",
       "      <td>125.7189</td>\n",
       "      <td>79.54</td>\n",
       "      <td>87</td>\n",
       "      <td>42</td>\n",
       "      <td>4.16</td>\n",
       "      <td>PH</td>\n",
       "      <td>1627139227</td>\n",
       "    </tr>\n",
       "  </tbody>\n",
       "</table>\n",
       "</div>"
      ],
      "text/plain": [
       "           City      Lat       Lng  Max Temp  Humidity  Cloudiness  \\\n",
       "0         kapaa  22.0752 -159.3190     79.12        83          90   \n",
       "1  norman wells  35.2226  -97.4395     86.92        70           1   \n",
       "2       rikitea -23.1203 -134.9692     68.61        55           0   \n",
       "3      saldanha -33.0117   17.9442     60.28        54          11   \n",
       "4     anibongan   7.3933  125.7189     79.54        87          42   \n",
       "\n",
       "   Wind Speed Country        Date  \n",
       "0        1.01      US  1627139215  \n",
       "1       17.27      US  1627139227  \n",
       "2        3.51      PF  1627139026  \n",
       "3        6.08      ZA  1627139153  \n",
       "4        4.16      PH  1627139227  "
      ]
     },
     "execution_count": 102,
     "metadata": {},
     "output_type": "execute_result"
    }
   ],
   "source": [
    "weather_dataframe.head()"
   ]
  },
  {
   "cell_type": "markdown",
   "metadata": {},
   "source": [
    "## Plotting the Data\n",
    "* Use proper labeling of the plots using plot titles (including date of analysis) and axes labels.\n",
    "* Save the plotted figures as .pngs."
   ]
  },
  {
   "cell_type": "markdown",
   "metadata": {},
   "source": [
    "## Latitude vs. Temperature Plot"
   ]
  },
  {
   "cell_type": "code",
   "execution_count": 29,
   "metadata": {
    "scrolled": true
   },
   "outputs": [
    {
     "data": {
      "image/png": "[encoded data removed]",
      "text/plain": [
       "<Figure size 432x288 with 1 Axes>"
      ]
     },
     "metadata": {
      "needs_background": "light"
     },
     "output_type": "display_data"
    }
   ],
   "source": [
    "plt.scatter(weather_dataframe[\"Lat\"],weather_dataframe[\"Max Temp\"],edgecolors=\"black\",facecolors=\"skyblue\")\n",
    "plt.title(\"City Latitude vs. Max Temperature (07/24/21)\")\n",
    "plt.xlabel(\"Latitude\")\n",
    "plt.ylabel(\"Max Temperature (F)\")\n",
    "plt.grid (b=True,which=\"major\",axis=\"both\",linestyle=\"-\",color=\"lightgrey\")\n",
    "plt.savefig(\"City Latitude vs. Max Temperature.png\")\n",
    "plt.show()"
   ]
  },
  {
   "cell_type": "markdown",
   "metadata": {},
   "source": [
    "## Latitude vs. Humidity Plot"
   ]
  },
  {
   "cell_type": "code",
   "execution_count": 33,
   "metadata": {},
   "outputs": [
    {
     "data": {
      "image/png": "[encoded data removed]",
      "text/plain": [
       "<Figure size 432x288 with 1 Axes>"
      ]
     },
     "metadata": {
      "needs_background": "light"
     },
     "output_type": "display_data"
    }
   ],
   "source": [
    "# Build a scatter plot for each data type\n",
    "plt.scatter(weather_data[\"Lat\"], weather_data[\"Humidity\"], marker=\"o\")\n",
    "\n",
    "# Incorporate the other graph properties\n",
    "plt.title(\"City Latitude VS. Humidity (07/24/21)\")\n",
    "plt.ylabel(\"humidity\")\n",
    "plt.xlabel(\"Latitude\")\n",
    "plt.grid(True)\n",
    "\n",
    "# Save the figure\n",
    "plt.savefig(\"City Latitude VS. Humidity.png\")\n",
    "\n",
    "# Show plot\n",
    "plt.show()"
   ]
  },
  {
   "cell_type": "markdown",
   "metadata": {},
   "source": [
    "## Latitude vs. Cloudiness Plot"
   ]
  },
  {
   "cell_type": "code",
   "execution_count": 34,
   "metadata": {},
   "outputs": [
    {
     "data": {
      "image/png": "[encoded data removed]",
      "text/plain": [
       "<Figure size 432x288 with 1 Axes>"
      ]
     },
     "metadata": {
      "needs_background": "light"
     },
     "output_type": "display_data"
    }
   ],
   "source": [
    "plt.scatter(weather_dataframe[\"Lat\"],weather_dataframe[\"Cloudiness\"],edgecolors=\"black\",facecolors=\"skyblue\")\n",
    "plt.title(\"City Latitude vs. Cloudiness (07/24/21)\")\n",
    "plt.xlabel(\"Latitude\")\n",
    "plt.ylabel(\"Cloudiness (%)\")\n",
    "plt.grid (b=True,which=\"major\",axis=\"both\",linestyle=\"-\",color=\"lightgrey\")\n",
    "plt.savefig(\"City Latitude vs. Cloudiness.png\")\n",
    "plt.show()"
   ]
  },
  {
   "cell_type": "markdown",
   "metadata": {},
   "source": [
    "## Latitude vs. Wind Speed Plot"
   ]
  },
  {
   "cell_type": "code",
   "execution_count": 35,
   "metadata": {},
   "outputs": [
    {
     "data": {
      "image/png": "[encoded data removed]",
      "text/plain": [
       "<Figure size 432x288 with 1 Axes>"
      ]
     },
     "metadata": {
      "needs_background": "light"
     },
     "output_type": "display_data"
    }
   ],
   "source": [
    "plt.scatter(weather_dataframe[\"Lat\"],weather_dataframe[\"Wind Speed\"],edgecolors=\"black\",facecolors=\"skyblue\")\n",
    "plt.title(\"City Latitude vs. Wind Speed (07/24/21)\")\n",
    "plt.xlabel(\"Latitude\")\n",
    "plt.ylabel(\"Wind Speed (mph)\")\n",
    "plt.ylim(-2,34)\n",
    "plt.grid (b=True,which=\"major\",axis=\"both\",linestyle=\"-\",color=\"lightgrey\")\n",
    "plt.savefig(\"City Latitude vs. Wind Speed.png\")\n",
    "plt.show()"
   ]
  },
  {
   "cell_type": "markdown",
   "metadata": {},
   "source": [
    "## Linear Regression"
   ]
  },
  {
   "cell_type": "code",
   "execution_count": 43,
   "metadata": {},
   "outputs": [],
   "source": [
    "# Create Northern and Southern Hemisphere DataFrames\n",
    "northern_df = weather_dataframe.loc[pd.to_numeric(weather_dataframe[\"Lat\"]).astype(float) > 0, :]\n",
    "southern_df = weather_dataframe.loc[pd.to_numeric(weather_dataframe[\"Lat\"]).astype(float) < 0, :]"
   ]
  },
  {
   "cell_type": "markdown",
   "metadata": {},
   "source": [
    "####  Northern Hemisphere - Max Temp vs. Latitude Linear Regression"
   ]
  },
  {
   "cell_type": "code",
   "execution_count": 93,
   "metadata": {},
   "outputs": [
    {
     "name": "stdout",
     "output_type": "stream",
     "text": [
      "Regression line equation is: y = -0.49x + 92.67\n",
      "The r-squared is: -0.6691114510881714\n",
      "The regression displays a negative correlation.\n",
      "In the nothern hemisphere, as you move away from the equator the temperature decreases.\n"
     ]
    },
    {
     "data": {
      "image/png": "[encoded data removed]",
      "text/plain": [
       "<Figure size 432x288 with 1 Axes>"
      ]
     },
     "metadata": {
      "needs_background": "light"
     },
     "output_type": "display_data"
    }
   ],
   "source": [
    "x_values = pd.to_numeric(northern_df['Lat']).astype(float)\n",
    "y_values = pd.to_numeric(northern_df['Max Temp']).astype(float)\n",
    "(slope, intercept,rvalue, pvalue, stderr)= linregress(x_values,y_values)\n",
    "regress_values = x_values * slope + intercept\n",
    "line_eq = \"y = \" + str(round(slope,2)) + \"x + \" + str(round(intercept,2))\n",
    "print(f\"Regression line equation is: {line_eq}\")\n",
    "plt.scatter(x_values,y_values)\n",
    "plt.plot(x_values,regress_values,\"r-\")\n",
    "plt.annotate(line_eq,(10,40),fontsize=15,color=\"red\")\n",
    "plt.xlabel('Latitude')\n",
    "plt.ylabel('Max Temperature (F)')\n",
    "print(f\"The r-squared is: {rvalue}\")\n",
    "print(\"The regression displays a negative correlation.\")\n",
    "print(\"In the nothern hemisphere, as you move away from the equator the temperature decreases.\")\n",
    "plt.savefig(\"Northern Hemisphere - Max Temp vs. Latitude Linear Regression.png\")\n",
    "plt.show()"
   ]
  },
  {
   "cell_type": "markdown",
   "metadata": {},
   "source": [
    "####  Southern Hemisphere - Max Temp vs. Latitude Linear Regression"
   ]
  },
  {
   "cell_type": "code",
   "execution_count": 92,
   "metadata": {},
   "outputs": [
    {
     "name": "stdout",
     "output_type": "stream",
     "text": [
      "Regression line equation is: y = 0.88x + 85.74\n",
      "The r-squared is: 0.8467705767965628\n",
      "The regression displays a positive correlation.\n",
      "In the southern hemisphere, as you get closer to the equator the temperature increases.\n"
     ]
    },
    {
     "data": {
      "image/png": "[encoded data removed]",
      "text/plain": [
       "<Figure size 432x288 with 1 Axes>"
      ]
     },
     "metadata": {
      "needs_background": "light"
     },
     "output_type": "display_data"
    }
   ],
   "source": [
    "x_values = pd.to_numeric(southern_df['Lat']).astype(float)\n",
    "y_values = pd.to_numeric(southern_df['Max Temp']).astype(float)\n",
    "(slope, intercept, rvalue, pvalue, stderr) = linregress(x_values, y_values)\n",
    "regress_values = x_values * slope + intercept\n",
    "line_eq = \"y = \" + str(round(slope,2)) + \"x + \" + str(round(intercept,2))\n",
    "print(f\"Regression line equation is: {line_eq}\")\n",
    "plt.scatter(x_values,y_values)\n",
    "plt.plot(x_values,regress_values,\"r-\")\n",
    "plt.annotate(line_eq,(-30,40),fontsize=15,color=\"red\")\n",
    "plt.xlabel('Latitude')\n",
    "plt.ylabel('Max Temperature (F)')\n",
    "print(f\"The r-squared is: {rvalue}\")\n",
    "print(\"The regression displays a positive correlation.\")\n",
    "print(\"In the southern hemisphere, as you get closer to the equator the temperature increases.\")\n",
    "plt.savefig(\"Southern Hemisphere - Max Temp vs. Latitude Linear Regression.png\")\n",
    "plt.show()"
   ]
  },
  {
   "cell_type": "markdown",
   "metadata": {},
   "source": [
    "####  Northern Hemisphere - Humidity (%) vs. Latitude Linear Regression"
   ]
  },
  {
   "cell_type": "code",
   "execution_count": 69,
   "metadata": {},
   "outputs": [
    {
     "name": "stdout",
     "output_type": "stream",
     "text": [
      "Regression line equation is: y = 0.14x + 62.65\n",
      "The r-squared is: 0.12260929843709845\n",
      "The regression does not display much of a correlation between the data sets.\n"
     ]
    },
    {
     "data": {
      "image/png": "[encoded data removed]",
      "text/plain": [
       "<Figure size 432x288 with 1 Axes>"
      ]
     },
     "metadata": {
      "needs_background": "light"
     },
     "output_type": "display_data"
    }
   ],
   "source": [
    "x_values = pd.to_numeric(northern_df['Lat']).astype(float)\n",
    "y_values = pd.to_numeric(northern_df['Humidity']).astype(float)\n",
    "(slope, intercept, rvalue, pvalue, stderr) = linregress(x_values, y_values)\n",
    "regress_values = x_values * slope + intercept\n",
    "line_eq = \"y = \" + str(round(slope,2)) + \"x + \" + str(round(intercept,2))\n",
    "print(f\"Regression line equation is: {line_eq}\")\n",
    "plt.scatter(x_values,y_values)\n",
    "plt.plot(x_values,regress_values,\"r-\")\n",
    "plt.annotate(line_eq,(6,10),fontsize=15,color=\"red\")\n",
    "plt.xlabel('Lat')\n",
    "plt.ylabel('HHumidity')\n",
    "plt.title('Northern Hemisphere - Humidity (%) vs. Latitude Linear Regression')\n",
    "print(f\"The r-squared is: {rvalue}\")\n",
    "print(\"The regression does not display much of a correlation between the data sets.\") \n",
    "plt.savefig(\"Northern Hemisphere - Humidity (%) vs. Latitude Linear Regression.png\")\n",
    "plt.show()"
   ]
  },
  {
   "cell_type": "markdown",
   "metadata": {},
   "source": [
    "####  Southern Hemisphere - Humidity (%) vs. Latitude Linear Regression"
   ]
  },
  {
   "cell_type": "code",
   "execution_count": 79,
   "metadata": {},
   "outputs": [
    {
     "name": "stdout",
     "output_type": "stream",
     "text": [
      "Regression line equation is: y = -0.19x + 56.24\n",
      "The r-squared is: -0.10850523694828162\n",
      "The regression does not display much of a correlation between the data sets.\n"
     ]
    },
    {
     "data": {
      "image/png": "[encoded data removed]",
      "text/plain": [
       "<Figure size 432x288 with 1 Axes>"
      ]
     },
     "metadata": {
      "needs_background": "light"
     },
     "output_type": "display_data"
    }
   ],
   "source": [
    "x_values = pd.to_numeric(southern_df['Lat']).astype(float)\n",
    "y_values = pd.to_numeric(southern_df['Humidity']).astype(float)\n",
    "(slope, intercept, rvalue, pvalue, stderr) = linregress(x_values, y_values)\n",
    "regress_values = x_values * slope + intercept\n",
    "line_eq = \"y = \" + str(round(slope,2)) + \"x + \" + str(round(intercept,2))\n",
    "print(f\"Regression line equation is: {line_eq}\")\n",
    "plt.scatter(x_values,y_values)\n",
    "plt.plot(x_values,regress_values,\"r-\")\n",
    "plt.annotate(line_eq,(-50,10),fontsize=15,color=\"red\")\n",
    "plt.xlabel('Latitude')\n",
    "plt.ylabel('Humidity')\n",
    "print(f\"The r-squared is: {rvalue}\")\n",
    "print(\"The regression does not display much of a correlation between the data sets.\")\n",
    "plt.savefig(\"Southern Hemisphere - Humidity (%) vs. Latitude Linear Regression.png\")\n",
    "plt.show()"
   ]
  },
  {
   "cell_type": "markdown",
   "metadata": {},
   "source": [
    "####  Northern Hemisphere - Cloudiness (%) vs. Latitude Linear Regression"
   ]
  },
  {
   "cell_type": "code",
   "execution_count": 85,
   "metadata": {},
   "outputs": [
    {
     "name": "stdout",
     "output_type": "stream",
     "text": [
      "Regression line equation is: y = 0.04x + 57.94\n",
      "The r-squared is: 0.01932834840682078\n",
      "The regression does not display much of a correlation between the data sets.\n"
     ]
    },
    {
     "data": {
      "image/png": "[encoded data removed]",
      "text/plain": [
       "<Figure size 432x288 with 1 Axes>"
      ]
     },
     "metadata": {
      "needs_background": "light"
     },
     "output_type": "display_data"
    }
   ],
   "source": [
    "x_values = pd.to_numeric(northern_df['Lat']).astype(float)\n",
    "y_values = pd.to_numeric(northern_df['Cloudiness']).astype(float)\n",
    "(slope, intercept, rvalue, pvalue, stderr) = linregress(x_values, y_values)\n",
    "regress_values = x_values * slope + intercept\n",
    "line_eq = \"y = \" + str(round(slope,2)) + \"x + \" + str(round(intercept,2))\n",
    "print(f\"Regression line equation is: {line_eq}\")\n",
    "plt.scatter(x_values,y_values)\n",
    "plt.plot(x_values,regress_values,\"r-\")\n",
    "plt.annotate(line_eq,(6,10),fontsize=15,color=\"red\")\n",
    "plt.xlabel('Latitude')\n",
    "plt.ylabel('Cloudiness (%)')\n",
    "plt.savefig(\"Northern Hemisphere - Cloudiness (%) vs. Latitude Linear Regression.png\")\n",
    "print(f\"The r-squared is: {rvalue}\")\n",
    "print(\"The regression does not display much of a correlation between the data sets.\")\n",
    "plt.show()"
   ]
  },
  {
   "cell_type": "markdown",
   "metadata": {},
   "source": [
    "####  Southern Hemisphere - Cloudiness (%) vs. Latitude Linear Regression"
   ]
  },
  {
   "cell_type": "code",
   "execution_count": 103,
   "metadata": {},
   "outputs": [
    {
     "name": "stdout",
     "output_type": "stream",
     "text": [
      "Regression line equation is: y = -0.6x + 30.42\n",
      "The r-squared is: -0.19754755386520012\n",
      "The r-squared is: -0.19754755386520012\n",
      "The regression does not display much of a correlation between the data sets.\n"
     ]
    },
    {
     "data": {
      "image/png": "[encoded data removed]",
      "text/plain": [
       "<Figure size 432x288 with 1 Axes>"
      ]
     },
     "metadata": {
      "needs_background": "light"
     },
     "output_type": "display_data"
    }
   ],
   "source": [
    "x_values = pd.to_numeric(southern_df['Lat']).astype(float)\n",
    "y_values = pd.to_numeric(southern_df['Cloudiness']).astype(float)\n",
    "(slope, intercept, rvalue, pvalue, stderr) = linregress(x_values, y_values)\n",
    "regress_values = x_values * slope + intercept\n",
    "line_eq = \"y = \" + str(round(slope,2)) + \"x + \" + str(round(intercept,2))\n",
    "print(f\"Regression line equation is: {line_eq}\")\n",
    "plt.scatter(x_values,y_values)\n",
    "plt.plot(x_values,regress_values,\"r-\")\n",
    "plt.annotate(line_eq,(-50,10),fontsize=15,color=\"red\")\n",
    "plt.xlabel('Latitude')\n",
    "plt.ylabel('Cloudiness (%)')\n",
    "plt.savefig(\"Southern Hemisphere - Cloudiness (%) vs. Latitude Linear Regression.png\")\n",
    "print(f\"The r-squared is: {rvalue}\")\n",
    "print(f\"The r-squared is: {rvalue}\")\n",
    "print(\"The regression does not display much of a correlation between the data sets.\")\n",
    "plt.show()"
   ]
  },
  {
   "cell_type": "markdown",
   "metadata": {},
   "source": [
    "####  Northern Hemisphere - Wind Speed (mph) vs. Latitude Linear Regression"
   ]
  },
  {
   "cell_type": "code",
   "execution_count": 105,
   "metadata": {},
   "outputs": [
    {
     "name": "stdout",
     "output_type": "stream",
     "text": [
      "Regression line equation is: y = -0.03x + 8.8\n",
      "The r-squared is: -0.08920786036199063\n",
      "The regression does not display much of a correlation between the data sets.\n"
     ]
    },
    {
     "data": {
      "image/png": "[encoded data removed]",
      "text/plain": [
       "<Figure size 432x288 with 1 Axes>"
      ]
     },
     "metadata": {
      "needs_background": "light"
     },
     "output_type": "display_data"
    }
   ],
   "source": [
    "x_values = pd.to_numeric(northern_df['Lat']).astype(float)\n",
    "y_values = pd.to_numeric(northern_df['Wind Speed']).astype(float)\n",
    "(slope, intercept, rvalue, pvalue, stderr) = linregress(x_values, y_values)\n",
    "regress_values = x_values * slope + intercept\n",
    "line_eq = \"y = \" + str(round(slope,2)) + \"x + \" + str(round(intercept,2))\n",
    "print(f\"Regression line equation is: {line_eq}\")\n",
    "plt.scatter(x_values,y_values)\n",
    "plt.plot(x_values,regress_values,\"r-\")\n",
    "plt.annotate(line_eq,(6,20),fontsize=15,color=\"red\")\n",
    "plt.xlabel('Latitude')\n",
    "plt.ylabel('Wind Speed (mph)')\n",
    "plt.savefig(\"Northern Hemisphere - Wind Speed (mph) vs. Latitude Linear Regression.png\")\n",
    "print(f\"The r-squared is: {rvalue}\")\n",
    "print(\"The regression does not display much of a correlation between the data sets.\")\n",
    "plt.show()"
   ]
  },
  {
   "cell_type": "markdown",
   "metadata": {},
   "source": [
    "####  Southern Hemisphere - Wind Speed (mph) vs. Latitude Linear Regression"
   ]
  },
  {
   "cell_type": "code",
   "execution_count": 109,
   "metadata": {},
   "outputs": [
    {
     "name": "stdout",
     "output_type": "stream",
     "text": [
      "Regression line equation is: y = -0.04x + 7.12\n",
      "The r-squared is: -0.1258280978007427\n",
      "The regression does not display much of a correlation between the data sets.\n"
     ]
    },
    {
     "data": {
      "image/png": "[encoded data removed]",
      "text/plain": [
       "<Figure size 432x288 with 1 Axes>"
      ]
     },
     "metadata": {
      "needs_background": "light"
     },
     "output_type": "display_data"
    }
   ],
   "source": [
    "x_values = pd.to_numeric(southern_df['Lat']).astype(float)\n",
    "y_values = pd.to_numeric(southern_df['Wind Speed']).astype(float)\n",
    "(slope, intercept, rvalue, pvalue, stderr) = linregress(x_values, y_values)\n",
    "regress_values = x_values * slope + intercept\n",
    "line_eq = \"y = \" + str(round(slope,2)) + \"x + \" + str(round(intercept,2))\n",
    "print(f\"Regression line equation is: {line_eq}\")\n",
    "plt.scatter(x_values,y_values)\n",
    "plt.plot(x_values,regress_values,\"r-\")\n",
    "plt.annotate(line_eq,(-50,10),fontsize=15,color=\"red\")\n",
    "plt.xlabel('Latitude')\n",
    "plt.ylabel('Wind Speed (mph)')\n",
    "plt.savefig(\"Southern Hemisphere - Wind Speed (mph) vs. Latitude Linear Regression.png\")\n",
    "print(f\"The r-squared is: {rvalue}\")\n",
    "print(\"The regression does not display much of a correlation between the data sets.\")\n",
    "plt.show()"
   ]
  },
  {
   "cell_type": "code",
   "execution_count": null,
   "metadata": {},
   "outputs": [],
   "source": []
  }
 ],
 "metadata": {
  "anaconda-cloud": {},
  "kernel_info": {
   "name": "python3"
  },
  "kernelspec": {
   "display_name": "Python 3",
   "language": "python",
   "name": "python3"
  },
  "language_info": {
   "codemirror_mode": {
    "name": "ipython",
    "version": 3
   },
   "file_extension": ".py",
   "mimetype": "text/x-python",
   "name": "python",
   "nbconvert_exporter": "python",
   "pygments_lexer": "ipython3",
   "version": "3.8.8"
  },
  "latex_envs": {
   "LaTeX_envs_menu_present": true,
   "autoclose": false,
   "autocomplete": true,
   "bibliofile": "biblio.bib",
   "cite_by": "apalike",
   "current_citInitial": 1,
   "eqLabelWithNumbers": true,
   "eqNumInitial": 1,
   "hotkeys": {
    "equation": "Ctrl-E",
    "itemize": "Ctrl-I"
   },
   "labels_anchors": false,
   "latex_user_defs": false,
   "report_style_numbering": false,
   "user_envs_cfg": false
  },
  "nteract": {
   "version": "0.12.3"
  }
 },
 "nbformat": 4,
 "nbformat_minor": 2
}
